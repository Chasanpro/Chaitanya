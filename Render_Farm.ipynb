{
  "nbformat": 4,
  "nbformat_minor": 0,
  "metadata": {
    "colab": {
      "name": "Render_Farm.ipynb",
      "private_outputs": true,
      "provenance": [],
      "collapsed_sections": [],
      "authorship_tag": "ABX9TyMbEGL5Y61FQUazwxPxr1pc",
      "include_colab_link": true
    },
    "kernelspec": {
      "name": "python3",
      "display_name": "Python 3"
    },
    "language_info": {
      "name": "python"
    },
    "accelerator": "GPU"
  },
  "cells": [
    {
      "cell_type": "markdown",
      "metadata": {
        "id": "view-in-github",
        "colab_type": "text"
      },
      "source": [
        "<a href=\"https://colab.research.google.com/github/Chasanpro/Chaitanya/blob/master/Render_Farm.ipynb\" target=\"_parent\"><img src=\"https://colab.research.google.com/assets/colab-badge.svg\" alt=\"Open In Colab\"/></a>"
      ]
    },
    {
      "cell_type": "code",
      "metadata": {
        "id": "1a1CPbecQQ0M"
      },
      "source": [
        "from google.colab import drive\n",
        "drive.mount('/drive/')"
      ],
      "execution_count": null,
      "outputs": []
    },
    {
      "cell_type": "code",
      "metadata": {
        "id": "l-hruGrDTKBB"
      },
      "source": [
        "!wget -c  https://builder.blender.org/download/experimental/blender-3.0.0-alpha+cycles-x.7bfe62d6b8f6-linux.x86_64-release.tar.xz"
      ],
      "execution_count": null,
      "outputs": []
    },
    {
      "cell_type": "code",
      "metadata": {
        "id": "i6dV_cBkVT7g"
      },
      "source": [
        "!tar xf blender-3.0.0-alpha+cycles-x.7bfe62d6b8f6-linux.x86_64-release.tar.xz"
      ],
      "execution_count": null,
      "outputs": []
    },
    {
      "cell_type": "code",
      "metadata": {
        "id": "T9pzg6XWZVSI"
      },
      "source": [
        "targetfile = '/drive/MyDrive/Blender_INT/metalmokey.blend'"
      ],
      "execution_count": null,
      "outputs": []
    },
    {
      "cell_type": "code",
      "metadata": {
        "id": "5tK2N6oCZful"
      },
      "source": [
        "!chmod  +x '/drive/Shareddrives/Capuccino_Cloud/Blender3/blender'"
      ],
      "execution_count": null,
      "outputs": []
    },
    {
      "cell_type": "code",
      "metadata": {
        "id": "skU7PpzfaImi"
      },
      "source": [
        "\n",
        "!sudo /drive/Shareddrives/Capuccino_Cloud/Blender3/blender -b $targetfile -noaudio -E 'CYCLES' -o '/drive/MyDrive/Render_OPT' -f 1 -F 'PNG' -- --cycles-device OPTIX"
      ],
      "execution_count": null,
      "outputs": []
    }
  ]
}